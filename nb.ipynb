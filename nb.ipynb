{
 "cells": [
  {
   "cell_type": "code",
   "execution_count": 1,
   "metadata": {},
   "outputs": [],
   "source": [
    "import numpy as np\n",
    "import pandas as pd\n",
    "from datetime import datetime"
   ]
  },
  {
   "cell_type": "code",
   "execution_count": 7,
   "metadata": {},
   "outputs": [],
   "source": [
    "dateparse = lambda x: datetime.strptime(x, '%d-%m-%Y')\n",
    "result = pd.read_csv('result.csv', parse_dates=['date'])"
   ]
  },
  {
   "cell_type": "code",
   "execution_count": 13,
   "metadata": {},
   "outputs": [
    {
     "data": {
      "text/html": [
       "<div>\n",
       "<style scoped>\n",
       "    .dataframe tbody tr th:only-of-type {\n",
       "        vertical-align: middle;\n",
       "    }\n",
       "\n",
       "    .dataframe tbody tr th {\n",
       "        vertical-align: top;\n",
       "    }\n",
       "\n",
       "    .dataframe thead th {\n",
       "        text-align: right;\n",
       "    }\n",
       "</style>\n",
       "<table border=\"1\" class=\"dataframe\">\n",
       "  <thead>\n",
       "    <tr style=\"text-align: right;\">\n",
       "      <th></th>\n",
       "      <th>Unnamed: 0</th>\n",
       "      <th>date</th>\n",
       "      <th>country</th>\n",
       "      <th>area</th>\n",
       "      <th>size</th>\n",
       "      <th>price_origin</th>\n",
       "      <th>price_origin_lower</th>\n",
       "      <th>price_origin_upper</th>\n",
       "      <th>price_usd</th>\n",
       "      <th>price_usd_lower</th>\n",
       "      <th>price_usd_upper</th>\n",
       "    </tr>\n",
       "  </thead>\n",
       "  <tbody>\n",
       "    <tr>\n",
       "      <th>0</th>\n",
       "      <td>0</td>\n",
       "      <td>2023-01-01</td>\n",
       "      <td>CHINA</td>\n",
       "      <td>FUJIAN</td>\n",
       "      <td>120-129.9 pcs/kg</td>\n",
       "      <td>30.766428</td>\n",
       "      <td>29.228106</td>\n",
       "      <td>32.30475</td>\n",
       "      <td>4.953053</td>\n",
       "      <td>4.7054</td>\n",
       "      <td>5.200705</td>\n",
       "    </tr>\n",
       "  </tbody>\n",
       "</table>\n",
       "</div>"
      ],
      "text/plain": [
       "   Unnamed: 0       date country    area              size  price_origin  \\\n",
       "0           0 2023-01-01   CHINA  FUJIAN  120-129.9 pcs/kg     30.766428   \n",
       "\n",
       "   price_origin_lower  price_origin_upper  price_usd  price_usd_lower  \\\n",
       "0           29.228106            32.30475   4.953053           4.7054   \n",
       "\n",
       "   price_usd_upper  \n",
       "0         5.200705  "
      ]
     },
     "execution_count": 13,
     "metadata": {},
     "output_type": "execute_result"
    }
   ],
   "source": [
    "result.loc[\n",
    "    (result['country'] == 'CHINA') \n",
    "    & (result['area'] == 'FUJIAN')\n",
    "    & (result['size'] == '120-129.9 pcs/kg')\n",
    "    & (result['date'] == '2023-01-01')\n",
    "]"
   ]
  },
  {
   "cell_type": "code",
   "execution_count": null,
   "metadata": {},
   "outputs": [],
   "source": []
  }
 ],
 "metadata": {
  "kernelspec": {
   "display_name": "Python 3.11.5 ('demo_price')",
   "language": "python",
   "name": "python3"
  },
  "language_info": {
   "codemirror_mode": {
    "name": "ipython",
    "version": 3
   },
   "file_extension": ".py",
   "mimetype": "text/x-python",
   "name": "python",
   "nbconvert_exporter": "python",
   "pygments_lexer": "ipython3",
   "version": "3.11.5"
  },
  "orig_nbformat": 4,
  "vscode": {
   "interpreter": {
    "hash": "85353f5477251e79bfd38923adb48c69faebf9a2f06cf7a3b8da9038ad8216db"
   }
  }
 },
 "nbformat": 4,
 "nbformat_minor": 2
}
